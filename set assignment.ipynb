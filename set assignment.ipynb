{
 "cells": [
  {
   "cell_type": "markdown",
   "id": "4fb7ae2f-0331-4290-9569-c6e635e80ded",
   "metadata": {},
   "source": [
    "## Answer 1"
   ]
  },
  {
   "cell_type": "markdown",
   "id": "a573e76e-6c52-4473-aee8-24dbb5df59db",
   "metadata": {},
   "source": [
    "In Python, a set is an unordered collection of unique elements. It is a built-in data type that represents a mathematical set. The elements in a set can be of different data types such as integers, floats, strings, or even other sets. However, a set itself is mutable, meaning you can add or remove elements from it, but the individual elements must be immutable.\n",
    "\n",
    "Key characteristics of sets in Python are:\n",
    "\n",
    "Unique Elements: A set does not allow duplicate elements. If you try to add an element that already exists in the set, it will not be added again.\n",
    "\n",
    "Unordered Collection: Sets are unordered, meaning the elements are not stored in a specific order. Therefore, you cannot access elements from a set using indexing or slicing.\n",
    "\n",
    "Mutable: Sets are mutable, allowing you to add or remove elements. You can modify a set after it is created.\n",
    "\n",
    "Hashable Elements: Elements of a set must be hashable. Immutable data types like integers, floats, strings, and tuples are hashable and can be elements of a set. However, lists and dictionaries, which are mutable, cannot be elements of a set."
   ]
  },
  {
   "cell_type": "markdown",
   "id": "1b47646a-e84e-4dd0-9a94-e2da758cc0dc",
   "metadata": {},
   "source": [
    "## Answer 2"
   ]
  },
  {
   "cell_type": "markdown",
   "id": "14a76a47-3444-4a7d-8791-f8200537c3c7",
   "metadata": {},
   "source": [
    "In Python, we create sets by placing all the elements inside curly braces {} , separated by comma. A set can have any number of items and they may be of different types (integer, float, tuple, string etc.). But a set cannot have mutable elements like lists, sets or dictionaries as its elements."
   ]
  },
  {
   "cell_type": "markdown",
   "id": "a37e4907-7d4c-4793-bb91-8b6b63cfba90",
   "metadata": {},
   "source": [
    "## Answer 3"
   ]
  },
  {
   "cell_type": "markdown",
   "id": "b84d6f2c-b317-4289-9f50-e6ea7c222b23",
   "metadata": {},
   "source": [
    "In Python, we create sets by placing all the elements inside curly braces {} , separated by comma. A set can have any number of items and they may be of different types (integer, float, tuple, string etc.). But a set cannot have mutable elements like lists, sets or dictionaries as its elements."
   ]
  },
  {
   "cell_type": "markdown",
   "id": "4f7e9da1-3efe-4af8-bc1f-6a57ac9f8752",
   "metadata": {},
   "source": [
    "## Answer 4"
   ]
  },
  {
   "cell_type": "markdown",
   "id": "4f01cebb-7690-47c2-92c9-bb0ce36784af",
   "metadata": {},
   "source": [
    "You can use the pop() method to remove specific elements of a list. pop() method takes the index value as a parameter and removes the element at the specified index. Therefore, a[2] contains 3 and pop() removes and returns the same as output. You can also use negative index values."
   ]
  },
  {
   "cell_type": "markdown",
   "id": "ecb53bfd-823e-48d1-a2ae-0503eef2f1b0",
   "metadata": {},
   "source": [
    "## Answer 5"
   ]
  },
  {
   "cell_type": "markdown",
   "id": "4d5358dd-b3bc-4df1-9aea-bad0fc29b664",
   "metadata": {},
   "source": [
    "Getting Started With Python's len() The function len() is one of Python's built-in functions. It returns the length of an object. For example, it can return the number of items in a list. You can use the function with many different data types."
   ]
  },
  {
   "cell_type": "code",
   "execution_count": null,
   "id": "29d53b43-df98-45cf-a908-e2830b4c150f",
   "metadata": {},
   "outputs": [],
   "source": []
  }
 ],
 "metadata": {
  "kernelspec": {
   "display_name": "Python 3 (ipykernel)",
   "language": "python",
   "name": "python3"
  },
  "language_info": {
   "codemirror_mode": {
    "name": "ipython",
    "version": 3
   },
   "file_extension": ".py",
   "mimetype": "text/x-python",
   "name": "python",
   "nbconvert_exporter": "python",
   "pygments_lexer": "ipython3",
   "version": "3.10.8"
  }
 },
 "nbformat": 4,
 "nbformat_minor": 5
}
